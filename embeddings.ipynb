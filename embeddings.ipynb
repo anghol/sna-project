{
 "cells": [
  {
   "cell_type": "code",
   "execution_count": 1,
   "metadata": {},
   "outputs": [],
   "source": [
    "import time\n",
    "import pickle\n",
    "import numpy as np\n",
    "import pandas as pd\n",
    "import networkx as nx"
   ]
  },
  {
   "attachments": {},
   "cell_type": "markdown",
   "metadata": {},
   "source": [
    "# Чтение графа"
   ]
  },
  {
   "cell_type": "code",
   "execution_count": 113,
   "metadata": {},
   "outputs": [
    {
     "name": "stdout",
     "output_type": "stream",
     "text": [
      "Number of nodes: 684\n",
      "Number of edges: 27052\n"
     ]
    }
   ],
   "source": [
    "graph = nx.read_graphml('so_graph.graphml')\n",
    "\n",
    "print(f\"Number of nodes: {graph.number_of_nodes()}\")\n",
    "print(f\"Number of edges: {graph.number_of_edges()}\")"
   ]
  },
  {
   "attachments": {},
   "cell_type": "markdown",
   "metadata": {},
   "source": [
    "# Центральности"
   ]
  },
  {
   "cell_type": "code",
   "execution_count": 114,
   "metadata": {},
   "outputs": [],
   "source": [
    "degree_centrality = nx.degree_centrality(graph)\n",
    "betweenness_centrality = nx.betweenness_centrality(graph)\n",
    "closeness_centrality = nx.closeness_centrality(graph)\n",
    "eigenvector_centrality = nx.eigenvector_centrality(graph)"
   ]
  },
  {
   "cell_type": "code",
   "execution_count": 115,
   "metadata": {},
   "outputs": [],
   "source": [
    "centr_embs = {}\n",
    "for node in graph.nodes():\n",
    "    centr_embs[node] = np.array([\n",
    "        degree_centrality[node],\n",
    "        betweenness_centrality[node],\n",
    "        closeness_centrality[node],\n",
    "        eigenvector_centrality[node]\n",
    "    ])"
   ]
  },
  {
   "cell_type": "code",
   "execution_count": 117,
   "metadata": {},
   "outputs": [],
   "source": [
    "with open('centrality_embs.pkl', 'wb') as file:\n",
    "    pickle.dump(centr_embs, file)"
   ]
  },
  {
   "attachments": {},
   "cell_type": "markdown",
   "metadata": {},
   "source": [
    "# SVD"
   ]
  },
  {
   "cell_type": "code",
   "execution_count": 164,
   "metadata": {},
   "outputs": [],
   "source": [
    "from scipy.sparse.linalg import svds"
   ]
  },
  {
   "cell_type": "code",
   "execution_count": 165,
   "metadata": {},
   "outputs": [],
   "source": [
    "# матрица смежности\n",
    "adj_matrix = nx.adjacency_matrix(graph).astype(float)\n",
    "U, s, _ = svds(adj_matrix, k=64)\n",
    "svd_adj_embs = {node: U[i] for i, node in enumerate(graph.nodes)}"
   ]
  },
  {
   "cell_type": "code",
   "execution_count": 166,
   "metadata": {},
   "outputs": [],
   "source": [
    "with open('svd_adj_embs.pkl', 'wb') as file:\n",
    "    pickle.dump(svd_adj_embs, file)"
   ]
  },
  {
   "cell_type": "code",
   "execution_count": 167,
   "metadata": {},
   "outputs": [],
   "source": [
    "# лаплассиан\n",
    "norm_laplacian_matrix = nx.linalg.normalized_laplacian_matrix(graph)\n",
    "U, s, _ = svds(adj_matrix, k=64)\n",
    "svd_lapl_embs = {node: U[i] for i, node in enumerate(graph.nodes)}"
   ]
  },
  {
   "cell_type": "code",
   "execution_count": 168,
   "metadata": {},
   "outputs": [],
   "source": [
    "with open('svd_lapl_embs.pkl', 'wb') as file:\n",
    "    pickle.dump(svd_lapl_embs, file)"
   ]
  },
  {
   "attachments": {},
   "cell_type": "markdown",
   "metadata": {},
   "source": [
    "# GCN + Autoencoders"
   ]
  },
  {
   "cell_type": "code",
   "execution_count": 124,
   "metadata": {},
   "outputs": [],
   "source": [
    "import torch \n",
    "from torch_geometric.data import Data\n",
    "from torch_geometric.nn import GCNConv, GATConv, GAE, VGAE"
   ]
  },
  {
   "cell_type": "code",
   "execution_count": 125,
   "metadata": {},
   "outputs": [],
   "source": [
    "class GCNEncoder(torch.nn.Module):\n",
    "    def __init__(self, in_channels, out_channels):\n",
    "        super().__init__()\n",
    "        self.conv1 = GCNConv(in_channels, 2 * out_channels)\n",
    "        self.conv2 = GCNConv(2 * out_channels, out_channels)\n",
    "\n",
    "    def forward(self, x, edge_index):\n",
    "        x = self.conv1(x, edge_index).relu()\n",
    "        return self.conv2(x, edge_index)\n",
    "\n",
    "\n",
    "class VariationalGCNEncoder(torch.nn.Module):\n",
    "    def __init__(self, in_channels, out_channels):\n",
    "        super().__init__()\n",
    "        self.conv1 = GCNConv(in_channels, 2 * out_channels)\n",
    "        self.conv_mu = GCNConv(2 * out_channels, out_channels)\n",
    "        self.conv_logstd = GCNConv(2 * out_channels, out_channels)\n",
    "\n",
    "    def forward(self, x, edge_index):\n",
    "        x = self.conv1(x, edge_index).relu()\n",
    "        return self.conv_mu(x, edge_index), self.conv_logstd(x, edge_index)"
   ]
  },
  {
   "cell_type": "code",
   "execution_count": 126,
   "metadata": {},
   "outputs": [],
   "source": [
    "# Сопоставляем тегам индексы\n",
    "tag_to_idx = {tag: i for i, tag in enumerate(graph.nodes())}\n",
    "\n",
    "# Матрица рёбер (2, num_edges) и весов\n",
    "edge_index = []\n",
    "edge_weight = []\n",
    "for (tag1, tag2, data) in graph.edges(data=True):\n",
    "    edge_index.append([tag_to_idx[tag1], tag_to_idx[tag2]])\n",
    "    edge_weight.append(data['weight'])\n",
    "\n",
    "edge_index = torch.tensor(edge_index, dtype=torch.long).t().contiguous()\n",
    "edge_weight = torch.tensor(edge_weight, dtype=torch.float)\n",
    "\n",
    "# Признаки узлов (если нет атрибутов — используем one-hot)\n",
    "x = torch.eye(len(tag_to_idx))  # One-hot\n",
    "\n",
    "data = Data(x=x, edge_index=edge_index, edge_attr=edge_weight)"
   ]
  },
  {
   "cell_type": "code",
   "execution_count": 127,
   "metadata": {},
   "outputs": [],
   "source": [
    "def train(data, model, optimizer, variational=False):\n",
    "    model.train()\n",
    "    optimizer.zero_grad()\n",
    "    z = model.encode(data.x, data.edge_index)\n",
    "    loss = model.recon_loss(z, data.edge_index)\n",
    "    if variational:\n",
    "        loss = loss + (1 / data.num_nodes) * model.kl_loss()\n",
    "    loss.backward()\n",
    "    optimizer.step()\n",
    "    return float(loss)\n",
    "\n",
    "device = 'cuda' if torch.cuda.is_available() else 'cpu'"
   ]
  },
  {
   "cell_type": "code",
   "execution_count": 128,
   "metadata": {},
   "outputs": [],
   "source": [
    "encoder = GCNEncoder(in_channels=data.num_features, out_channels=64)\n",
    "gae = GAE(encoder=encoder)\n",
    "gae = gae.to(device)\n",
    "\n",
    "optimizer = torch.optim.Adam(gae.parameters(), lr=0.01)\n",
    "\n",
    "epochs = 200\n",
    "gae_losses = []\n",
    "for epoch in range(1, epochs + 1):\n",
    "    loss = train(data, gae, optimizer)\n",
    "    gae_losses.append(loss)"
   ]
  },
  {
   "cell_type": "code",
   "execution_count": 129,
   "metadata": {},
   "outputs": [],
   "source": [
    "encoder = VariationalGCNEncoder(in_channels=data.num_features, out_channels=64)\n",
    "vgae = VGAE(encoder=encoder)\n",
    "vgae = vgae.to(device)\n",
    "\n",
    "optimizer = torch.optim.Adam(vgae.parameters(), lr=0.01)\n",
    "\n",
    "epochs = 200\n",
    "vgae_losses = []\n",
    "for epoch in range(1, epochs + 1):\n",
    "    loss = train(data, vgae, optimizer, variational=True)\n",
    "    vgae_losses.append(loss)"
   ]
  },
  {
   "cell_type": "code",
   "execution_count": 130,
   "metadata": {},
   "outputs": [
    {
     "data": {
      "image/png": "[encoded data removed]",
      "text/plain": [
       "<Figure size 900x300 with 2 Axes>"
      ]
     },
     "metadata": {},
     "output_type": "display_data"
    }
   ],
   "source": [
    "import matplotlib.pyplot as plt\n",
    "\n",
    "fig, axes = plt.subplots(1, 2, figsize=(9,3))\n",
    "axes[0].plot(gae_losses)\n",
    "axes[0].set_title('GAE loss')\n",
    "axes[1].plot(vgae_losses)\n",
    "axes[1].set_title('VGAE loss')\n",
    "plt.tight_layout()"
   ]
  },
  {
   "cell_type": "code",
   "execution_count": 134,
   "metadata": {},
   "outputs": [],
   "source": [
    "gae.eval()\n",
    "with torch.no_grad():\n",
    "    gae_embeddings = gae(data.x, data.edge_index).numpy()  # (n_tags, 64)\n",
    "\n",
    "gae_embeddings_dict = {}\n",
    "for tag, idx in tag_to_idx.items():\n",
    "    gae_embeddings_dict[tag] = gae_embeddings[idx]\n",
    "\n",
    "with open('gae_gcn_embds.pkl', 'wb') as file:\n",
    "    pickle.dump(gae_embeddings_dict, file)"
   ]
  },
  {
   "cell_type": "code",
   "execution_count": 162,
   "metadata": {},
   "outputs": [],
   "source": [
    "vgae.eval()\n",
    "with torch.no_grad():\n",
    "    vgae_embeddings = torch.cat(vgae(data.x, data.edge_index), dim=1).numpy()  # (n_tags, 64)\n",
    "\n",
    "vgae_embeddings_dict = {}\n",
    "for tag, idx in tag_to_idx.items():\n",
    "    vgae_embeddings_dict[tag] = vgae_embeddings[idx]\n",
    "\n",
    "with open('vgae_gcn_embds.pkl', 'wb') as file:\n",
    "    pickle.dump(vgae_embeddings_dict, file)"
   ]
  },
  {
   "attachments": {},
   "cell_type": "markdown",
   "metadata": {},
   "source": [
    "# GAT + GAE"
   ]
  },
  {
   "cell_type": "code",
   "execution_count": 197,
   "metadata": {},
   "outputs": [],
   "source": [
    "from torch.nn import Dropout\n",
    "\n",
    "class WeightedGAT(torch.nn.Module):\n",
    "    def __init__(self, num_features, hidden_dim, output_dim, heads=2):\n",
    "        super().__init__()\n",
    "        self.conv1 = GATConv(num_features, hidden_dim, heads=heads, edge_dim=1)\n",
    "        self.conv2 = GATConv(hidden_dim * heads, output_dim, heads=1, edge_dim=1)\n",
    "        self.dropout = Dropout(0.2)\n",
    "\n",
    "    def forward(self, data):\n",
    "        x, edge_index, edge_attr = data.x, data.edge_index, data.edge_attr\n",
    "        x = self.conv1(x, edge_index, edge_attr=edge_attr).relu()\n",
    "        x = self.dropout(x)\n",
    "        x = self.conv2(x, edge_index, edge_attr=edge_attr)\n",
    "        return x"
   ]
  },
  {
   "cell_type": "code",
   "execution_count": 198,
   "metadata": {},
   "outputs": [],
   "source": [
    "encoder = WeightedGAT(num_features=len(tag_to_idx), hidden_dim=128, output_dim=64)\n",
    "model = GAE(encoder=encoder)\n",
    "model = model.to(device)\n",
    "\n",
    "optimizer = torch.optim.Adam(model.parameters(), lr=0.01)"
   ]
  },
  {
   "cell_type": "code",
   "execution_count": 199,
   "metadata": {},
   "outputs": [],
   "source": [
    "epochs = 200\n",
    "gae_losses = []\n",
    "for epoch in range(1, epochs + 1):\n",
    "    model.train()\n",
    "    optimizer.zero_grad()\n",
    "    z = model.encode(data)\n",
    "    loss = model.recon_loss(z, data.edge_index)\n",
    "    loss.backward()\n",
    "    optimizer.step()\n",
    "    gae_losses.append(float(loss))"
   ]
  },
  {
   "cell_type": "code",
   "execution_count": 200,
   "metadata": {},
   "outputs": [
    {
     "data": {
      "image/png": "[encoded data removed]",
      "text/plain": [
       "<Figure size 640x480 with 1 Axes>"
      ]
     },
     "metadata": {},
     "output_type": "display_data"
    }
   ],
   "source": [
    "plt.plot(gae_losses)\n",
    "plt.tight_layout()"
   ]
  },
  {
   "cell_type": "code",
   "execution_count": 201,
   "metadata": {},
   "outputs": [],
   "source": [
    "model.eval()\n",
    "with torch.no_grad():\n",
    "    gae_embeddings = model(data).numpy()  # (n_tags, 64)\n",
    "\n",
    "gae_embeddings_dict = {}\n",
    "for tag, idx in tag_to_idx.items():\n",
    "    gae_embeddings_dict[tag] = gae_embeddings[idx]\n",
    "\n",
    "with open('gae_gat_embds.pkl', 'wb') as file:\n",
    "    pickle.dump(gae_embeddings_dict, file)"
   ]
  }
 ],
 "metadata": {
  "kernelspec": {
   "display_name": "ml_env",
   "language": "python",
   "name": "python3"
  },
  "language_info": {
   "codemirror_mode": {
    "name": "ipython",
    "version": 3
   },
   "file_extension": ".py",
   "mimetype": "text/x-python",
   "name": "python",
   "nbconvert_exporter": "python",
   "pygments_lexer": "ipython3",
   "version": "3.13.2"
  },
  "orig_nbformat": 4
 },
 "nbformat": 4,
 "nbformat_minor": 2
}
